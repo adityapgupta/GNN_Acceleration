{
 "cells": [
  {
   "cell_type": "code",
   "execution_count": 1,
   "id": "c63e016b-adc7-47eb-a439-fa992a386e82",
   "metadata": {},
   "outputs": [],
   "source": [
    "import torch\n",
    "import torch.nn as nn\n",
    "import torch_geometric as pyg\n",
    "from torch_geometric.data import Data\n",
    "from torch_geometric.explain import Explanation\n",
    "from torch_geometric.visualization import visualize_graph\n",
    "from torch_geometric.datasets import TUDataset\n",
    "import torch.nn.functional as F\n",
    "from torch_geometric.nn import GCNConv,global_mean_pool\n",
    "\n",
    "from torch.utils.data import TensorDataset, DataLoader\n",
    "from torch_geometric.loader import DataLoader\n",
    "\n",
    "import networkx as nx\n",
    "import matplotlib.pyplot as plt\n",
    "from sklearn.metrics import roc_auc_score"
   ]
  },
  {
   "cell_type": "code",
   "execution_count": 2,
   "id": "3d91d982-7bc8-486b-9ad0-8e244e952212",
   "metadata": {},
   "outputs": [],
   "source": [
    "device = 'cuda'"
   ]
  },
  {
   "cell_type": "code",
   "execution_count": 3,
   "id": "ab236b76-2af5-4d99-83d3-9d30c4ae6961",
   "metadata": {},
   "outputs": [],
   "source": [
    "def compute_variance(H):\n",
    "    \"\"\"\n",
    "    Computes the variance of the node feature matrix H (n x f).\n",
    "    \n",
    "    Parameters:\n",
    "    H (torch.Tensor): n x f matrix of node feature vectors\n",
    "\n",
    "    Returns:\n",
    "    torch.Tensor: Variance of the node embeddings (scalar)\n",
    "    \"\"\"\n",
    "    mean_vector = torch.mean(H, dim=0, keepdim=True)  # Compute mean across nodes\n",
    "    variance = torch.mean(torch.norm(H - mean_vector, dim=1) ** 2)  # Compute variance\n",
    "    return variance"
   ]
  },
  {
   "cell_type": "code",
   "execution_count": 4,
   "id": "1bc491b8-ffe9-4a8f-b6fc-c60866ce9829",
   "metadata": {},
   "outputs": [],
   "source": [
    "from ogb.nodeproppred import PygNodePropPredDataset"
   ]
  },
  {
   "cell_type": "code",
   "execution_count": 5,
   "id": "2463742e-fae3-4ac3-9745-ff52a3c3522e",
   "metadata": {},
   "outputs": [
    {
     "data": {
      "text/plain": [
       "'\\nGraph: The ogbn-proteins dataset is an undirected, weighted, and typed (according to species) graph.\\nNodes represent proteins, and edges indicate different types of biologically meaningful associations\\nbetween proteins, e.g., physical interactions, co-expression or homology [1,2]. All edges come with\\n8-dimensional features, where each dimension represents the approximate confidence of a single \\nassociation type and takes values between 0 and 1 (the larger the value is, the more confident we are\\nabout the association). The proteins come from 8 species.\\n\\nPrediction task: The task is to predict the presence of protein functions in a multi-label binary \\nclassification setup, where there are 112 kinds of labels to predict in total. The performance is \\nmeasured by the average of ROC-AUC scores across the 112 tasks.\\n\\nDataset splitting: We split the protein nodes into training/validation/test sets according to the \\nspecies which the proteins come from. This enables the evaluation of the generalization performance of \\nthe model across different species.\\n'"
      ]
     },
     "execution_count": 5,
     "metadata": {},
     "output_type": "execute_result"
    }
   ],
   "source": [
    "\"\"\"\n",
    "Graph: The ogbn-proteins dataset is an undirected, weighted, and typed (according to species) graph.\n",
    "Nodes represent proteins, and edges indicate different types of biologically meaningful associations\n",
    "between proteins, e.g., physical interactions, co-expression or homology [1,2]. All edges come with\n",
    "8-dimensional features, where each dimension represents the approximate confidence of a single \n",
    "association type and takes values between 0 and 1 (the larger the value is, the more confident we are\n",
    "about the association). The proteins come from 8 species.\n",
    "\n",
    "Prediction task: The task is to predict the presence of protein functions in a multi-label binary \n",
    "classification setup, where there are 112 kinds of labels to predict in total. The performance is \n",
    "measured by the average of ROC-AUC scores across the 112 tasks.\n",
    "\n",
    "Dataset splitting: We split the protein nodes into training/validation/test sets according to the \n",
    "species which the proteins come from. This enables the evaluation of the generalization performance of \n",
    "the model across different species.\n",
    "\"\"\""
   ]
  },
  {
   "cell_type": "code",
   "execution_count": 6,
   "id": "967b391e-4b01-4ae1-8de5-f920a678e3fe",
   "metadata": {},
   "outputs": [
    {
     "name": "stderr",
     "output_type": "stream",
     "text": [
      "D:\\anaconda3\\envs\\pyg\\Lib\\site-packages\\ogb\\nodeproppred\\dataset_pyg.py:69: FutureWarning: You are using `torch.load` with `weights_only=False` (the current default value), which uses the default pickle module implicitly. It is possible to construct malicious pickle data which will execute arbitrary code during unpickling (See https://github.com/pytorch/pytorch/blob/main/SECURITY.md#untrusted-models for more details). In a future release, the default value for `weights_only` will be flipped to `True`. This limits the functions that could be executed during unpickling. Arbitrary objects will no longer be allowed to be loaded via this mode unless they are explicitly allowlisted by the user via `torch.serialization.add_safe_globals`. We recommend you start setting `weights_only=True` for any use case where you don't have full control of the loaded file. Please open an issue on GitHub for any issues related to this experimental feature.\n",
      "  self.data, self.slices = torch.load(self.processed_paths[0])\n"
     ]
    }
   ],
   "source": [
    "dataset = PygNodePropPredDataset(name = \"ogbn-proteins\", root = 'data/')"
   ]
  },
  {
   "cell_type": "code",
   "execution_count": 7,
   "id": "4b3090f7-8a08-4e9a-9912-aa659364ae0d",
   "metadata": {},
   "outputs": [
    {
     "data": {
      "text/plain": [
       "{'train': tensor([    0,     1,     2,  ..., 86616, 86617, 86618]),\n",
       " 'valid': tensor([ 86619,  86620,  86621,  ..., 107852, 107853, 107854]),\n",
       " 'test': tensor([107855, 107856, 107857,  ..., 132531, 132532, 132533])}"
      ]
     },
     "execution_count": 7,
     "metadata": {},
     "output_type": "execute_result"
    }
   ],
   "source": [
    "\n",
    "split_idx = dataset.get_idx_split()\n",
    "split_idx"
   ]
  },
  {
   "cell_type": "code",
   "execution_count": 8,
   "id": "d9b4a749-5c3b-44cf-84b7-d027d9057310",
   "metadata": {},
   "outputs": [
    {
     "data": {
      "text/plain": [
       "torch.Size([86619])"
      ]
     },
     "execution_count": 8,
     "metadata": {},
     "output_type": "execute_result"
    }
   ],
   "source": [
    "split_idx[\"train\"].shape"
   ]
  },
  {
   "cell_type": "code",
   "execution_count": 9,
   "id": "816cc421-148c-4159-8b2a-aa2ec9701b1e",
   "metadata": {},
   "outputs": [
    {
     "data": {
      "text/plain": [
       "torch.Size([21236])"
      ]
     },
     "execution_count": 9,
     "metadata": {},
     "output_type": "execute_result"
    }
   ],
   "source": [
    "split_idx[\"valid\"].shape"
   ]
  },
  {
   "cell_type": "code",
   "execution_count": 10,
   "id": "59225bb0-6fa4-441b-b630-1c7f6f3928c8",
   "metadata": {},
   "outputs": [
    {
     "data": {
      "text/plain": [
       "torch.Size([24679])"
      ]
     },
     "execution_count": 10,
     "metadata": {},
     "output_type": "execute_result"
    }
   ],
   "source": [
    "split_idx[\"test\"].shape"
   ]
  },
  {
   "cell_type": "code",
   "execution_count": 11,
   "id": "ffb97c63-bb24-4de5-98bb-6c6853561567",
   "metadata": {},
   "outputs": [],
   "source": [
    "def nx_vis(graph):\n",
    "    color_map = {\n",
    "    (1, 0, 0): \"red\",\n",
    "    (0, 1, 0): \"green\",\n",
    "    (0, 0, 1): \"blue\",\n",
    "    }\n",
    "    g = pyg.utils.to_networkx(graph, to_undirected=True)\n",
    "    \n",
    "    node_color = [ color_map[tuple(graph.x[i].tolist())] for i in g ]\n",
    "    \n",
    "    nx.draw(g, node_color = node_color)"
   ]
  },
  {
   "cell_type": "code",
   "execution_count": 12,
   "id": "bbba14de-5fe8-46d1-9e37-acfa5b09b5de",
   "metadata": {},
   "outputs": [],
   "source": [
    "train_idx, valid_idx, test_idx = split_idx[\"train\"], split_idx[\"valid\"], split_idx[\"test\"]"
   ]
  },
  {
   "cell_type": "code",
   "execution_count": 13,
   "id": "153d687d-026a-49fe-9df5-e947c788abb6",
   "metadata": {},
   "outputs": [],
   "source": [
    "graph = dataset[0]"
   ]
  },
  {
   "cell_type": "code",
   "execution_count": 14,
   "id": "999be729-5569-45cc-82a7-b74fe3839e8a",
   "metadata": {},
   "outputs": [
    {
     "data": {
      "text/plain": [
       "Data(num_nodes=132534, edge_index=[2, 79122504], edge_attr=[79122504, 8], node_species=[132534, 1], y=[132534, 112])"
      ]
     },
     "execution_count": 14,
     "metadata": {},
     "output_type": "execute_result"
    }
   ],
   "source": [
    "graph"
   ]
  },
  {
   "cell_type": "code",
   "execution_count": 15,
   "id": "8e96fbc1-5ede-4644-930c-df0f81306578",
   "metadata": {},
   "outputs": [],
   "source": [
    "from torch_scatter import scatter\n",
    "# Aggregate edge features to nodes (average)\n",
    "node_features = scatter(graph.edge_attr, graph.edge_index[0], dim=0, dim_size=graph.num_nodes, reduce=\"mean\")"
   ]
  },
  {
   "cell_type": "code",
   "execution_count": 16,
   "id": "adbe79be-0ec5-4c7b-ac60-f16c9453bd5f",
   "metadata": {},
   "outputs": [
    {
     "data": {
      "text/plain": [
       "torch.Size([132534, 8])"
      ]
     },
     "execution_count": 16,
     "metadata": {},
     "output_type": "execute_result"
    }
   ],
   "source": [
    "node_features.shape"
   ]
  },
  {
   "cell_type": "code",
   "execution_count": 17,
   "id": "a24e8c8d-fcf4-4516-8ba6-1b36f60ed1a2",
   "metadata": {},
   "outputs": [],
   "source": [
    "graph.node_features = node_features"
   ]
  },
  {
   "cell_type": "markdown",
   "id": "d271126b-00c7-41f4-bb8d-6dd7fe8b50ec",
   "metadata": {},
   "source": [
    "# Solve with MLP"
   ]
  },
  {
   "cell_type": "code",
   "execution_count": 39,
   "id": "d2817cfa-b9df-4c0f-bfe1-956484d85e25",
   "metadata": {},
   "outputs": [],
   "source": [
    "features = graph.node_features\n",
    "targets = graph.y"
   ]
  },
  {
   "cell_type": "code",
   "execution_count": 41,
   "id": "0b37d8ca-c028-4904-9162-de479697abeb",
   "metadata": {},
   "outputs": [
    {
     "data": {
      "text/plain": [
       "torch.Size([132534, 8])"
      ]
     },
     "execution_count": 41,
     "metadata": {},
     "output_type": "execute_result"
    }
   ],
   "source": [
    "features.shape"
   ]
  },
  {
   "cell_type": "code",
   "execution_count": 42,
   "id": "2a03b125-cef2-4bed-add3-a982d7a38a05",
   "metadata": {},
   "outputs": [
    {
     "data": {
      "text/plain": [
       "torch.Size([132534, 112])"
      ]
     },
     "execution_count": 42,
     "metadata": {},
     "output_type": "execute_result"
    }
   ],
   "source": [
    "targets.shape"
   ]
  },
  {
   "cell_type": "code",
   "execution_count": 132,
   "id": "ce5c089a-935e-4671-96aa-e5f8cffa0d18",
   "metadata": {},
   "outputs": [],
   "source": [
    "class MLP(nn.Module):\n",
    "    def __init__(self, in_dim=8, hidden_dim=256, out_dim=112):\n",
    "        super().__init__()\n",
    "        self.fc1 = nn.Linear(in_dim, hidden_dim)  # First hidden layer\n",
    "        self.fc2 = nn.Linear(hidden_dim, hidden_dim)  # Second hidden layer\n",
    "        self.fc3 = nn.Linear(hidden_dim, hidden_dim)  # Second hidden layer\n",
    "        self.fc4 = nn.Linear(hidden_dim, hidden_dim)  # Second hidden layer\n",
    "        self.fc5 = nn.Linear(hidden_dim, out_dim)  # Output layer\n",
    "\n",
    "    def forward(self, x):\n",
    "        #print(x.shape)\n",
    "        x = F.relu(self.fc1(x))  # First hidden layer\n",
    "        #print(x.shape)\n",
    "        x = F.relu(self.fc2(x))  # Second hidden layer\n",
    "        #print(x.shape)\n",
    "        x = F.relu(self.fc3(x))  # Second hidden layer\n",
    "        #print(x.shape)\n",
    "        x = F.relu(self.fc4(x))  # Second hidden layer\n",
    "        #print(x.shape)\n",
    "        x = self.fc5(x)\n",
    "        return x"
   ]
  },
  {
   "cell_type": "code",
   "execution_count": 133,
   "id": "9b3c6d07-8a7c-4ff7-b99b-b00c6bc5a376",
   "metadata": {},
   "outputs": [],
   "source": [
    "train_x = features[train_idx]\n",
    "train_y = targets[train_idx]\n",
    "train_data = TensorDataset(train_x, train_y)\n",
    "train_loader = DataLoader(train_data,batch_size=32, shuffle=True)"
   ]
  },
  {
   "cell_type": "code",
   "execution_count": 134,
   "id": "cb6ba9f1-eaac-4225-8508-c6b31a00cd8c",
   "metadata": {},
   "outputs": [],
   "source": [
    "val_x = features[valid_idx]\n",
    "val_y = targets[valid_idx]\n",
    "\n",
    "val_data = TensorDataset(val_x, val_y)\n",
    "val_loader = DataLoader(val_data,batch_size=32, shuffle=True)"
   ]
  },
  {
   "cell_type": "code",
   "execution_count": 135,
   "id": "6756bf57-6281-4f68-a4d4-23a8e0bc2636",
   "metadata": {},
   "outputs": [],
   "source": [
    "test_x = features[test_idx]\n",
    "test_y = targets[test_idx]\n",
    "\n",
    "test_data = TensorDataset(test_x, test_y)\n",
    "test_loader = DataLoader(test_data,batch_size=32, shuffle=True)"
   ]
  },
  {
   "cell_type": "code",
   "execution_count": 144,
   "id": "925b021c-32e6-4f6f-8123-578d0045d616",
   "metadata": {},
   "outputs": [
    {
     "data": {
      "text/plain": [
       "MLP(\n",
       "  (fc1): Linear(in_features=8, out_features=256, bias=True)\n",
       "  (fc2): Linear(in_features=256, out_features=256, bias=True)\n",
       "  (fc3): Linear(in_features=256, out_features=256, bias=True)\n",
       "  (fc4): Linear(in_features=256, out_features=256, bias=True)\n",
       "  (fc5): Linear(in_features=256, out_features=112, bias=True)\n",
       ")"
      ]
     },
     "execution_count": 144,
     "metadata": {},
     "output_type": "execute_result"
    }
   ],
   "source": [
    "model = MLP()\n",
    "model.to(device)"
   ]
  },
  {
   "cell_type": "code",
   "execution_count": 145,
   "id": "f9bc0cc1-4f0e-4299-80ae-a760868df06e",
   "metadata": {},
   "outputs": [],
   "source": [
    "criterion=nn.BCEWithLogitsLoss()\n",
    "optimizer = torch.optim.Adam(model.parameters(),lr=0.001)\n",
    "epochs = 50"
   ]
  },
  {
   "cell_type": "code",
   "execution_count": 146,
   "id": "c06a9665-76ba-4f51-a436-fec0658c6a78",
   "metadata": {},
   "outputs": [],
   "source": [
    "# Training function\n",
    "def train(model):\n",
    "    model.train()\n",
    "    total_loss = 0\n",
    "    correct = 0\n",
    "    total = 0\n",
    "\n",
    "    for x_batch, y_batch in train_loader:\n",
    "        x_batch, y_batch = x_batch.to(device), y_batch.to(device)\n",
    "\n",
    "        optimizer.zero_grad()\n",
    "        y_pred = model(x_batch)  # Raw logits\n",
    "        loss = criterion(y_pred.float(), y_batch.float())  # BCEWithLogitsLoss applies sigmoid internally\n",
    "\n",
    "        loss.backward()\n",
    "        optimizer.step()\n",
    "        \n",
    "        total_loss += loss.item()\n",
    "\n",
    "    return total_loss / len(train_loader)  # Average loss per batch"
   ]
  },
  {
   "cell_type": "code",
   "execution_count": 147,
   "id": "78850801-eb03-4c41-a06d-26a1ed6d0b61",
   "metadata": {},
   "outputs": [],
   "source": [
    "# Evaluation function (returns validation loss and ROC-AUC)\n",
    "def val(model):\n",
    "    model.eval()\n",
    "    total_loss = 0\n",
    "    all_y_true = []\n",
    "    all_y_pred = []\n",
    "\n",
    "    with torch.no_grad():\n",
    "        for x_batch, y_batch in val_loader:\n",
    "            x_batch, y_batch = x_batch.to(device), y_batch.to(device)\n",
    "            y_pred = model(x_batch)  # Raw logits\n",
    "\n",
    "            loss = criterion(y_pred.float(), y_batch.float())\n",
    "            total_loss += loss.item()\n",
    "\n",
    "            all_y_true.append(y_batch.cpu())\n",
    "            all_y_pred.append(torch.sigmoid(y_pred).cpu())  # Convert logits to probabilities\n",
    "\n",
    "    # Convert lists to tensors\n",
    "    all_y_true = torch.cat(all_y_true).numpy()\n",
    "    all_y_pred = torch.cat(all_y_pred).numpy()\n",
    "\n",
    "    # Compute ROC-AUC per label\n",
    "    auc_scores = []\n",
    "    for i in range(all_y_true.shape[1]):\n",
    "        if len(set(all_y_true[:, i])) > 1:  # Ensure at least two classes exist\n",
    "            auc_scores.append(roc_auc_score(all_y_true[:, i], all_y_pred[:, i]))\n",
    "\n",
    "    val_auc = sum(auc_scores) / len(auc_scores)  # Macro-average AUC\n",
    "\n",
    "    return total_loss / len(val_loader), val_auc  # Return validation loss & accuracy (AUC)"
   ]
  },
  {
   "cell_type": "code",
   "execution_count": 148,
   "id": "ee7f382c-9388-43a0-a067-31bfeb7b7321",
   "metadata": {},
   "outputs": [],
   "source": [
    "def train_model(model, epochs = 50):\n",
    "    train_losses = []\n",
    "    train_accs = []\n",
    "    val_losses = []\n",
    "    val_accs = []\n",
    "    best_val = float('inf')\n",
    "    for i in range(epochs):\n",
    "        train_loss = train(model)\n",
    "        val_loss, val_auc = val(model)\n",
    "    \n",
    "        train_losses.append(train_loss)\n",
    "        val_losses.append(val_loss)\n",
    "        val_accs.append(val_auc)\n",
    "        if val_loss<best_val:\n",
    "            best_val = val_loss\n",
    "            torch.save(model.state_dict(),'MLP.pt')\n",
    "        print(f\"Epoch {i+1}/{epochs} - Train Loss: {train_loss:.4f}, Val Loss: {val_loss:.4f}, Val AUC: {val_auc:.4f}\")\n",
    "    return train_losses, val_losses, val_accs"
   ]
  },
  {
   "cell_type": "code",
   "execution_count": 149,
   "id": "c88261e3-e730-43b4-98ed-8bae636376a6",
   "metadata": {},
   "outputs": [
    {
     "name": "stdout",
     "output_type": "stream",
     "text": [
      "Epoch 1/50 - Train Loss: 0.3202, Val Loss: 0.3884, Val AUC: 0.7132\n",
      "Epoch 2/50 - Train Loss: 0.2978, Val Loss: 0.3756, Val AUC: 0.7423\n",
      "Epoch 3/50 - Train Loss: 0.2908, Val Loss: 0.3717, Val AUC: 0.7545\n",
      "Epoch 4/50 - Train Loss: 0.2870, Val Loss: 0.3720, Val AUC: 0.7536\n",
      "Epoch 5/50 - Train Loss: 0.2841, Val Loss: 0.3725, Val AUC: 0.7622\n",
      "Epoch 6/50 - Train Loss: 0.2818, Val Loss: 0.3650, Val AUC: 0.7690\n",
      "Epoch 7/50 - Train Loss: 0.2801, Val Loss: 0.3688, Val AUC: 0.7708\n",
      "Epoch 8/50 - Train Loss: 0.2784, Val Loss: 0.3723, Val AUC: 0.7687\n",
      "Epoch 9/50 - Train Loss: 0.2773, Val Loss: 0.3676, Val AUC: 0.7717\n",
      "Epoch 10/50 - Train Loss: 0.2758, Val Loss: 0.3618, Val AUC: 0.7733\n",
      "Epoch 11/50 - Train Loss: 0.2746, Val Loss: 0.3665, Val AUC: 0.7724\n",
      "Epoch 12/50 - Train Loss: 0.2734, Val Loss: 0.3621, Val AUC: 0.7744\n",
      "Epoch 13/50 - Train Loss: 0.2723, Val Loss: 0.3593, Val AUC: 0.7792\n",
      "Epoch 14/50 - Train Loss: 0.2713, Val Loss: 0.3610, Val AUC: 0.7808\n",
      "Epoch 15/50 - Train Loss: 0.2702, Val Loss: 0.3658, Val AUC: 0.7775\n",
      "Epoch 16/50 - Train Loss: 0.2694, Val Loss: 0.3693, Val AUC: 0.7771\n",
      "Epoch 17/50 - Train Loss: 0.2684, Val Loss: 0.3599, Val AUC: 0.7799\n",
      "Epoch 18/50 - Train Loss: 0.2675, Val Loss: 0.3611, Val AUC: 0.7801\n",
      "Epoch 19/50 - Train Loss: 0.2668, Val Loss: 0.3575, Val AUC: 0.7818\n",
      "Epoch 20/50 - Train Loss: 0.2658, Val Loss: 0.3689, Val AUC: 0.7798\n",
      "Epoch 21/50 - Train Loss: 0.2651, Val Loss: 0.3687, Val AUC: 0.7775\n",
      "Epoch 22/50 - Train Loss: 0.2644, Val Loss: 0.3629, Val AUC: 0.7810\n",
      "Epoch 23/50 - Train Loss: 0.2637, Val Loss: 0.3665, Val AUC: 0.7766\n",
      "Epoch 24/50 - Train Loss: 0.2631, Val Loss: 0.3635, Val AUC: 0.7834\n",
      "Epoch 25/50 - Train Loss: 0.2624, Val Loss: 0.3551, Val AUC: 0.7852\n",
      "Epoch 26/50 - Train Loss: 0.2616, Val Loss: 0.3677, Val AUC: 0.7792\n",
      "Epoch 27/50 - Train Loss: 0.2609, Val Loss: 0.3632, Val AUC: 0.7839\n",
      "Epoch 28/50 - Train Loss: 0.2602, Val Loss: 0.3623, Val AUC: 0.7843\n",
      "Epoch 29/50 - Train Loss: 0.2598, Val Loss: 0.3639, Val AUC: 0.7890\n",
      "Epoch 30/50 - Train Loss: 0.2592, Val Loss: 0.3664, Val AUC: 0.7824\n",
      "Epoch 31/50 - Train Loss: 0.2587, Val Loss: 0.3600, Val AUC: 0.7853\n",
      "Epoch 32/50 - Train Loss: 0.2582, Val Loss: 0.3682, Val AUC: 0.7757\n",
      "Epoch 33/50 - Train Loss: 0.2574, Val Loss: 0.3670, Val AUC: 0.7849\n",
      "Epoch 34/50 - Train Loss: 0.2567, Val Loss: 0.3644, Val AUC: 0.7860\n",
      "Epoch 35/50 - Train Loss: 0.2563, Val Loss: 0.3701, Val AUC: 0.7851\n",
      "Epoch 36/50 - Train Loss: 0.2558, Val Loss: 0.3632, Val AUC: 0.7862\n",
      "Epoch 37/50 - Train Loss: 0.2553, Val Loss: 0.3621, Val AUC: 0.7895\n",
      "Epoch 38/50 - Train Loss: 0.2547, Val Loss: 0.3602, Val AUC: 0.7841\n",
      "Epoch 39/50 - Train Loss: 0.2544, Val Loss: 0.3769, Val AUC: 0.7854\n",
      "Epoch 40/50 - Train Loss: 0.2540, Val Loss: 0.3621, Val AUC: 0.7880\n",
      "Epoch 41/50 - Train Loss: 0.2534, Val Loss: 0.3697, Val AUC: 0.7865\n",
      "Epoch 42/50 - Train Loss: 0.2529, Val Loss: 0.3645, Val AUC: 0.7874\n",
      "Epoch 43/50 - Train Loss: 0.2526, Val Loss: 0.3572, Val AUC: 0.7884\n",
      "Epoch 44/50 - Train Loss: 0.2520, Val Loss: 0.3610, Val AUC: 0.7862\n",
      "Epoch 45/50 - Train Loss: 0.2514, Val Loss: 0.3622, Val AUC: 0.7882\n",
      "Epoch 46/50 - Train Loss: 0.2508, Val Loss: 0.3665, Val AUC: 0.7883\n",
      "Epoch 47/50 - Train Loss: 0.2509, Val Loss: 0.3591, Val AUC: 0.7895\n",
      "Epoch 48/50 - Train Loss: 0.2500, Val Loss: 0.3597, Val AUC: 0.7915\n",
      "Epoch 49/50 - Train Loss: 0.2499, Val Loss: 0.3662, Val AUC: 0.7901\n",
      "Epoch 50/50 - Train Loss: 0.2494, Val Loss: 0.3608, Val AUC: 0.7887\n"
     ]
    }
   ],
   "source": [
    "train_losses, val_losses, val_aucs = train_model(model)"
   ]
  },
  {
   "cell_type": "code",
   "execution_count": 151,
   "id": "514f524d-32a9-4620-a59d-6cfda3fa8880",
   "metadata": {},
   "outputs": [
    {
     "data": {
      "text/plain": [
       "[<matplotlib.lines.Line2D at 0x2aa87a7e6c0>]"
      ]
     },
     "execution_count": 151,
     "metadata": {},
     "output_type": "execute_result"
    },
    {
     "data": {
      "image/png": "[encoded data removed]",
      "text/plain": [
       "<Figure size 640x480 with 1 Axes>"
      ]
     },
     "metadata": {},
     "output_type": "display_data"
    }
   ],
   "source": [
    "plt.plot(train_losses)\n",
    "plt.plot(val_losses)"
   ]
  },
  {
   "cell_type": "code",
   "execution_count": 154,
   "id": "5d2af893-a294-4df9-88ec-c3dbb5de3507",
   "metadata": {},
   "outputs": [
    {
     "data": {
      "text/plain": [
       "[<matplotlib.lines.Line2D at 0x2aa93aa2000>]"
      ]
     },
     "execution_count": 154,
     "metadata": {},
     "output_type": "execute_result"
    },
    {
     "data": {
      "image/png": "[encoded data removed]",
      "text/plain": [
       "<Figure size 640x480 with 1 Axes>"
      ]
     },
     "metadata": {},
     "output_type": "display_data"
    }
   ],
   "source": [
    "plt.plot(val_aucs)"
   ]
  },
  {
   "cell_type": "code",
   "execution_count": 155,
   "id": "f5be1217-f892-4a6e-a51e-12c7e7e975d1",
   "metadata": {},
   "outputs": [],
   "source": [
    "history = {\n",
    "    \"train_loss\":train_losses,\n",
    "    \"val_loss\": val_losses,\n",
    "    \"val_auc\": val_aucs\n",
    "}\n",
    "           "
   ]
  },
  {
   "cell_type": "code",
   "execution_count": 156,
   "id": "520ce545-e4fd-4f5d-9518-bfbdba457b11",
   "metadata": {},
   "outputs": [],
   "source": [
    "torch.save(history, 'MLP_history.pt')"
   ]
  },
  {
   "cell_type": "code",
   "execution_count": null,
   "id": "f62b496d-4644-457b-b254-d137aebeb80f",
   "metadata": {},
   "outputs": [],
   "source": [
    "class GCN(nn.Module, dropout):\n",
    "    def __init__(self, in_dim=8, hidden_dim=256, out_dim=112):\n",
    "        super().__init__()\n",
    "        self.fc1 = nn.Linear(in_dim, hidden_dim)  # First hidden layer\n",
    "        self.fc2 = nn.Linear(hidden_dim, hidden_dim)  # Second hidden layer\n",
    "        self.fc3 = nn.Linear(hidden_dim, hidden_dim)  # Second hidden layer\n",
    "        self.fc4 = nn.Linear(hidden_dim, hidden_dim)  # Second hidden layer\n",
    "        self.fc5 = nn.Linear(hidden_dim, out_dim)  # Output layer\n",
    "\n",
    "    def forward(self, x):\n",
    "        #print(x.shape)\n",
    "        x = F.relu(self.fc1(x))  # First hidden layer\n",
    "        #print(x.shape)\n",
    "        x = F.relu(self.fc2(x))  # Second hidden layer\n",
    "        #print(x.shape)\n",
    "        x = F.relu(self.fc3(x))  # Second hidden layer\n",
    "        #print(x.shape)\n",
    "        x = F.relu(self.fc4(x))  # Second hidden layer\n",
    "        #print(x.shape)\n",
    "        x = self.fc5(x)\n",
    "        return x"
   ]
  },
  {
   "cell_type": "code",
   "execution_count": 162,
   "id": "456bcc56-fc0f-4506-bb7f-5c1fed305a82",
   "metadata": {},
   "outputs": [
    {
     "data": {
      "text/plain": [
       "(tensor([0.0010, 0.0010, 0.0010, 0.0010, 0.0533, 0.0239, 0.0010, 0.2182]),\n",
       " tensor([1, 1, 1, 1, 1, 1, 1, 1, 1, 1, 1, 1, 0, 1, 0, 0, 1, 1, 1, 1, 0, 1, 1, 1,\n",
       "         1, 0, 1, 1, 0, 0, 0, 0, 0, 0, 1, 0, 0, 0, 0, 1, 1, 0, 0, 1, 0, 1, 1, 1,\n",
       "         1, 0, 0, 1, 0, 0, 0, 0, 1, 0, 0, 0, 1, 0, 0, 0, 1, 1, 0, 0, 0, 1, 0, 0,\n",
       "         0, 0, 0, 0, 1, 0, 0, 0, 0, 0, 0, 1, 1, 0, 1, 0, 0, 0, 0, 0, 0, 0, 0, 0,\n",
       "         0, 0, 0, 0, 0, 0, 0, 0, 0, 0, 0, 0, 0, 0, 0, 0]))"
      ]
     },
     "execution_count": 162,
     "metadata": {},
     "output_type": "execute_result"
    }
   ],
   "source": [
    "train_data[0]"
   ]
  },
  {
   "cell_type": "code",
   "execution_count": null,
   "id": "ba3c6675-d011-4b47-8543-658ebe2f5fb3",
   "metadata": {},
   "outputs": [],
   "source": []
  },
  {
   "cell_type": "code",
   "execution_count": null,
   "id": "db4802e6-9c5a-4484-bf86-69b00088563a",
   "metadata": {},
   "outputs": [],
   "source": [
    "class GCN(torch.nn.Module):\n",
    "    def __init__(self, num_features=8, hidden_dim=64, num_classes=112, num_layers=3, \n",
    "                 edge_dropout=0.2):\n",
    "        \"\"\"\n",
    "        GCN model with flexible depth, dropout, and edge dropout.\n",
    "        \n",
    "        Args:\n",
    "            num_features (int): Input feature size (e.g., 8 for ogbn-proteins).\n",
    "            hidden_dim (int): Hidden layer size.\n",
    "            num_classes (int): Output size (e.g., 112 for multi-label classification).\n",
    "            num_layers (int): Number of GCN layers.\n",
    "            dropout (float): Node dropout rate (0.0 - 1.0).\n",
    "            edge_dropout (float): Edge dropout rate (0.0 - 1.0).\n",
    "        \"\"\"\n",
    "        super(GCN, self).__init__()\n",
    "        \n",
    "        self.num_layers = num_layers\n",
    "        self.edge_dropout = edge_dropout\n",
    "        self.convs = torch.nn.ModuleList()\n",
    "        self.dropout = Dropout(dropout)\n",
    "\n",
    "        # Input layer\n",
    "        self.convs.append(GCNConv(num_features, hidden_dim))\n",
    "\n",
    "        # Hidden layers\n",
    "        for _ in range(num_layers - 2):\n",
    "            self.convs.append(GCNConv(hidden_dim, hidden_dim))\n",
    "\n",
    "        # Output layer\n",
    "        self.convs.append(GCNConv(hidden_dim, num_classes))\n",
    "\n",
    "    def forward(self, x, edge_index):\n",
    "        # Apply edge dropout\n",
    "        edge_index, _ = dropout_edge(edge_index, p=self.edge_dropout, training=self.training)\n",
    "\n",
    "        for i, conv in enumerate(self.convs):\n",
    "            x = conv(x, edge_index)  # GCN layer\n",
    "            if i < len(self.convs) - 1:  # Apply ReLU + Dropout to all but last layer\n",
    "                x = F.relu(x)\n",
    "                x = self.dropout(x)\n",
    "        \n",
    "        return x  # No activation on final layer (for AUC computation)"
   ]
  },
  {
   "cell_type": "code",
   "execution_count": 163,
   "id": "b5af1041-991e-4962-b56d-e91b66754e17",
   "metadata": {},
   "outputs": [
    {
     "data": {
      "text/plain": [
       "Data(num_nodes=132534, edge_index=[2, 79122504], edge_attr=[79122504, 8], node_species=[132534, 1], y=[132534, 112], node_features=[132534, 8])"
      ]
     },
     "execution_count": 163,
     "metadata": {},
     "output_type": "execute_result"
    }
   ],
   "source": [
    "graph"
   ]
  },
  {
   "cell_type": "code",
   "execution_count": 164,
   "id": "585557c1-b609-4e1c-a6c2-7f1cffb5b769",
   "metadata": {},
   "outputs": [],
   "source": [
    "def filter_edges(edge_index, node_idx):\n",
    "    \"\"\"\n",
    "    Filters edge_index to only keep edges where both nodes are in node_idx.\n",
    "\n",
    "    Args:\n",
    "        edge_index (torch.Tensor): Shape [2, num_edges], contains edge connections.\n",
    "        node_idx (torch.Tensor): Indices of nodes belonging to the split.\n",
    "\n",
    "    Returns:\n",
    "        torch.Tensor: Filtered edge_index for the given node set.\n",
    "    \"\"\"\n",
    "    mask = torch.isin(edge_index[0], node_idx) & torch.isin(edge_index[1], node_idx)\n",
    "    return edge_index[:, mask]"
   ]
  },
  {
   "cell_type": "code",
   "execution_count": 165,
   "id": "3eaff889-a514-4f8c-a9da-97f22dfbe5a1",
   "metadata": {},
   "outputs": [],
   "source": [
    "train_edges = filter_edges(graph.edge_index, train_idx)"
   ]
  },
  {
   "cell_type": "code",
   "execution_count": 167,
   "id": "7610cbcf-b98c-4f25-971b-6794d44d681a",
   "metadata": {},
   "outputs": [
    {
     "data": {
      "text/plain": [
       "torch.Size([2, 40846716])"
      ]
     },
     "execution_count": 167,
     "metadata": {},
     "output_type": "execute_result"
    }
   ],
   "source": [
    "train_edges.shape"
   ]
  },
  {
   "cell_type": "code",
   "execution_count": 22,
   "id": "78b4bbc9-9aa4-4542-97fa-27e4a90d1b7f",
   "metadata": {},
   "outputs": [],
   "source": [
    "import torch\n",
    "import torch.nn as nn\n",
    "import torch.nn.functional as F\n",
    "from torch_scatter import scatter_add\n",
    "\n",
    "class CustomGCNConv(nn.Module):\n",
    "    def __init__(self, in_channels, out_channels):\n",
    "        super(CustomGCNConv, self).__init__()\n",
    "        self.W = nn.Linear(in_channels, out_channels, bias=False)  # Learnable weight matrix\n",
    "\n",
    "    def forward(self, x, edge_index):\n",
    "        \"\"\"\n",
    "        x: Node features of shape (N, F_in)\n",
    "        edge_index: Sparse adjacency list of shape (2, E)\n",
    "        \"\"\"\n",
    "        x = x.half()\n",
    "        #print(f'Forward: {edge_index}')\n",
    "        row, col = edge_index  # Get source and target nodes\n",
    "        \n",
    "        # Compute degree normalization (D^(-1/2))\n",
    "        deg = scatter_add(torch.ones_like(row, dtype=x.dtype), row, dim=0, dim_size=x.size(0))  # Degree of each node\n",
    "        print(deg.shape)\n",
    "        deg_inv_sqrt = deg.pow(-0.5)\n",
    "        print(deg_inv_sqrt.shape)\n",
    "        deg_inv_sqrt[deg_inv_sqrt == float('inf')] = 0  # Avoid division by zero\n",
    "        print('right before norm')\n",
    "        # Normalize message passing: D^(-1/2) * A * D^(-1/2) * X\n",
    "        norm = deg_inv_sqrt[row] * deg_inv_sqrt[col]\n",
    "        print(norm.shape)\n",
    "        x_j = x[col] * norm.view(-1, 1)  # Scale features by normalized adjacency\n",
    "        print(x_j.shape)\n",
    "        agg = scatter_add(x_j, row, dim=0, dim_size=x.size(0))  # Aggregate messages\n",
    "        print(agg.shape)\n",
    "        del x_j\n",
    "        del norm\n",
    "        del deg_inv_sqrt\n",
    "        del deg\n",
    "        return self.W(agg)  # Apply transformation\n",
    "\n"
   ]
  },
  {
   "cell_type": "code",
   "execution_count": 24,
   "id": "522153be-0c9c-45a5-9681-30e9a13d09d0",
   "metadata": {},
   "outputs": [],
   "source": [
    "class GCN(torch.nn.Module):\n",
    "    def __init__(self, in_channels, hidden_channels,out_channels, num_layers,\n",
    "                 dropout):\n",
    "        super(GCN, self).__init__()\n",
    "\n",
    "        self.convs = torch.nn.ModuleList()\n",
    "        self.convs.append(\n",
    "            CustomGCNConv(in_channels, hidden_channels, normalize=False))\n",
    "        for _ in range(num_layers - 2):\n",
    "            self.convs.append(\n",
    "                CustomGCNConv(hidden_channels, hidden_channels, normalize=False))\n",
    "        self.convs.append(\n",
    "            CustomGCNConv(hidden_channels, out_channels, normalize=False))\n",
    "\n",
    "        self.dropout = dropout\n",
    "\n",
    "    def reset_parameters(self):\n",
    "        for conv in self.convs:\n",
    "            conv.reset_parameters()\n",
    "\n",
    "    def forward(self, x, edge_index):\n",
    "        for conv in self.convs[:-1]:\n",
    "            x = conv(x, edge_index)\n",
    "            x = F.relu(x)\n",
    "            #x = F.dropout(x, p=self.dropout, training=self.training)\n",
    "        x = self.convs[-1](x, edge_index)\n",
    "        return x\n",
    "        "
   ]
  },
  {
   "cell_type": "code",
   "execution_count": 25,
   "id": "51c1de97-3633-4199-844f-93e87c8644da",
   "metadata": {},
   "outputs": [
    {
     "data": {
      "text/plain": [
       "Data(num_nodes=132534, edge_index=[2, 79122504], edge_attr=[79122504, 8], node_species=[132534, 1], y=[132534, 112], node_features=[132534, 8])"
      ]
     },
     "execution_count": 25,
     "metadata": {},
     "output_type": "execute_result"
    }
   ],
   "source": [
    "graph"
   ]
  },
  {
   "cell_type": "code",
   "execution_count": 86,
   "id": "d2fdfa6a-c88a-4ac0-8ab5-caef4e59cceb",
   "metadata": {},
   "outputs": [],
   "source": [
    "edges = graph.edge_index"
   ]
  },
  {
   "cell_type": "code",
   "execution_count": 90,
   "id": "d3e39c6c-e4b1-4bd2-98b5-57c25d286865",
   "metadata": {},
   "outputs": [
    {
     "data": {
      "text/plain": [
       "torch.Size([2, 79122504])"
      ]
     },
     "execution_count": 90,
     "metadata": {},
     "output_type": "execute_result"
    }
   ],
   "source": [
    "edges.shape\n",
    "#log2(...) = 26.2375847482\n",
    "# we are restricted to 25-26 epochs under this scheme"
   ]
  },
  {
   "cell_type": "code",
   "execution_count": null,
   "id": "f2f6e32c-8aa6-4110-9780-15238ca0c8c4",
   "metadata": {},
   "outputs": [],
   "source": []
  },
  {
   "cell_type": "code",
   "execution_count": 28,
   "id": "b37c6347-470d-4ede-acd9-22d3f2873408",
   "metadata": {},
   "outputs": [],
   "source": [
    "from torch_geometric.utils.dropout import dropout_edge\n"
   ]
  },
  {
   "cell_type": "code",
   "execution_count": 34,
   "id": "946071bb-9879-45d9-ae48-ccf56009e1e1",
   "metadata": {},
   "outputs": [
    {
     "data": {
      "text/plain": [
       "Data(num_nodes=132534, edge_index=[2, 79122504], edge_attr=[79122504, 8], node_species=[132534, 1], y=[132534, 112], node_features=[132534, 8])"
      ]
     },
     "execution_count": 34,
     "metadata": {},
     "output_type": "execute_result"
    }
   ],
   "source": [
    "graph"
   ]
  },
  {
   "cell_type": "code",
   "execution_count": 91,
   "id": "0f6c8332-55bb-4eb2-87b1-09215d481a82",
   "metadata": {},
   "outputs": [],
   "source": [
    "edges, edge_mask = dropout_edge(edges)"
   ]
  },
  {
   "cell_type": "code",
   "execution_count": 92,
   "id": "ea911a26-bf2e-4867-a666-086a0dee796c",
   "metadata": {},
   "outputs": [
    {
     "data": {
      "text/plain": [
       "torch.Size([2, 39567037])"
      ]
     },
     "execution_count": 92,
     "metadata": {},
     "output_type": "execute_result"
    }
   ],
   "source": [
    "edges.shape"
   ]
  },
  {
   "cell_type": "code",
   "execution_count": 85,
   "id": "aba5a504-dcf4-49cd-99a5-c93f65cbdcd0",
   "metadata": {},
   "outputs": [
    {
     "data": {
      "text/plain": [
       "torch.Size([160])"
      ]
     },
     "execution_count": 85,
     "metadata": {},
     "output_type": "execute_result"
    }
   ],
   "source": [
    "edge_mask.shape"
   ]
  },
  {
   "cell_type": "code",
   "execution_count": 36,
   "id": "afe77dc6-961f-4d47-8026-6919267e7afc",
   "metadata": {},
   "outputs": [],
   "source": [
    "model = GCN(8,256,112,2,0.5)"
   ]
  },
  {
   "cell_type": "code",
   "execution_count": 93,
   "id": "c5928fab-8060-4f40-9f9a-b7da24480878",
   "metadata": {},
   "outputs": [
    {
     "ename": "RuntimeError",
     "evalue": "[enforce fail at alloc_cpu.cpp:114] data. DefaultCPUAllocator: not enough memory: you tried to allocate 40516645888 bytes.",
     "output_type": "error",
     "traceback": [
      "\u001b[1;31m-------------------------------------------------------------------------\u001b[0m",
      "\u001b[1;31mRuntimeError\u001b[0m                            Traceback (most recent call last)",
      "Cell \u001b[1;32mIn[93], line 1\u001b[0m\n\u001b[1;32m----> 1\u001b[0m model(graph\u001b[38;5;241m.\u001b[39mnode_features, edges)\n",
      "File \u001b[1;32mD:\\anaconda3\\envs\\pyg\\Lib\\site-packages\\torch\\nn\\modules\\module.py:1736\u001b[0m, in \u001b[0;36mModule._wrapped_call_impl\u001b[1;34m(self, *args, **kwargs)\u001b[0m\n\u001b[0;32m   1734\u001b[0m     \u001b[38;5;28;01mreturn\u001b[39;00m \u001b[38;5;28mself\u001b[39m\u001b[38;5;241m.\u001b[39m_compiled_call_impl(\u001b[38;5;241m*\u001b[39margs, \u001b[38;5;241m*\u001b[39m\u001b[38;5;241m*\u001b[39mkwargs)  \u001b[38;5;66;03m# type: ignore[misc]\u001b[39;00m\n\u001b[0;32m   1735\u001b[0m \u001b[38;5;28;01melse\u001b[39;00m:\n\u001b[1;32m-> 1736\u001b[0m     \u001b[38;5;28;01mreturn\u001b[39;00m \u001b[38;5;28mself\u001b[39m\u001b[38;5;241m.\u001b[39m_call_impl(\u001b[38;5;241m*\u001b[39margs, \u001b[38;5;241m*\u001b[39m\u001b[38;5;241m*\u001b[39mkwargs)\n",
      "File \u001b[1;32mD:\\anaconda3\\envs\\pyg\\Lib\\site-packages\\torch\\nn\\modules\\module.py:1747\u001b[0m, in \u001b[0;36mModule._call_impl\u001b[1;34m(self, *args, **kwargs)\u001b[0m\n\u001b[0;32m   1742\u001b[0m \u001b[38;5;66;03m# If we don't have any hooks, we want to skip the rest of the logic in\u001b[39;00m\n\u001b[0;32m   1743\u001b[0m \u001b[38;5;66;03m# this function, and just call forward.\u001b[39;00m\n\u001b[0;32m   1744\u001b[0m \u001b[38;5;28;01mif\u001b[39;00m \u001b[38;5;129;01mnot\u001b[39;00m (\u001b[38;5;28mself\u001b[39m\u001b[38;5;241m.\u001b[39m_backward_hooks \u001b[38;5;129;01mor\u001b[39;00m \u001b[38;5;28mself\u001b[39m\u001b[38;5;241m.\u001b[39m_backward_pre_hooks \u001b[38;5;129;01mor\u001b[39;00m \u001b[38;5;28mself\u001b[39m\u001b[38;5;241m.\u001b[39m_forward_hooks \u001b[38;5;129;01mor\u001b[39;00m \u001b[38;5;28mself\u001b[39m\u001b[38;5;241m.\u001b[39m_forward_pre_hooks\n\u001b[0;32m   1745\u001b[0m         \u001b[38;5;129;01mor\u001b[39;00m _global_backward_pre_hooks \u001b[38;5;129;01mor\u001b[39;00m _global_backward_hooks\n\u001b[0;32m   1746\u001b[0m         \u001b[38;5;129;01mor\u001b[39;00m _global_forward_hooks \u001b[38;5;129;01mor\u001b[39;00m _global_forward_pre_hooks):\n\u001b[1;32m-> 1747\u001b[0m     \u001b[38;5;28;01mreturn\u001b[39;00m forward_call(\u001b[38;5;241m*\u001b[39margs, \u001b[38;5;241m*\u001b[39m\u001b[38;5;241m*\u001b[39mkwargs)\n\u001b[0;32m   1749\u001b[0m result \u001b[38;5;241m=\u001b[39m \u001b[38;5;28;01mNone\u001b[39;00m\n\u001b[0;32m   1750\u001b[0m called_always_called_hooks \u001b[38;5;241m=\u001b[39m \u001b[38;5;28mset\u001b[39m()\n",
      "Cell \u001b[1;32mIn[35], line 23\u001b[0m, in \u001b[0;36mGCN.forward\u001b[1;34m(self, x, edge_index)\u001b[0m\n\u001b[0;32m     21\u001b[0m \u001b[38;5;28;01mdef\u001b[39;00m \u001b[38;5;21mforward\u001b[39m(\u001b[38;5;28mself\u001b[39m, x, edge_index):\n\u001b[0;32m     22\u001b[0m     \u001b[38;5;28;01mfor\u001b[39;00m conv \u001b[38;5;129;01min\u001b[39;00m \u001b[38;5;28mself\u001b[39m\u001b[38;5;241m.\u001b[39mconvs[:\u001b[38;5;241m-\u001b[39m\u001b[38;5;241m1\u001b[39m]:\n\u001b[1;32m---> 23\u001b[0m         x \u001b[38;5;241m=\u001b[39m conv(x, edge_index)\n\u001b[0;32m     24\u001b[0m         x \u001b[38;5;241m=\u001b[39m F\u001b[38;5;241m.\u001b[39mrelu(x)\n\u001b[0;32m     25\u001b[0m         \u001b[38;5;66;03m#x = F.dropout(x, p=self.dropout, training=self.training)\u001b[39;00m\n",
      "File \u001b[1;32mD:\\anaconda3\\envs\\pyg\\Lib\\site-packages\\torch\\nn\\modules\\module.py:1736\u001b[0m, in \u001b[0;36mModule._wrapped_call_impl\u001b[1;34m(self, *args, **kwargs)\u001b[0m\n\u001b[0;32m   1734\u001b[0m     \u001b[38;5;28;01mreturn\u001b[39;00m \u001b[38;5;28mself\u001b[39m\u001b[38;5;241m.\u001b[39m_compiled_call_impl(\u001b[38;5;241m*\u001b[39margs, \u001b[38;5;241m*\u001b[39m\u001b[38;5;241m*\u001b[39mkwargs)  \u001b[38;5;66;03m# type: ignore[misc]\u001b[39;00m\n\u001b[0;32m   1735\u001b[0m \u001b[38;5;28;01melse\u001b[39;00m:\n\u001b[1;32m-> 1736\u001b[0m     \u001b[38;5;28;01mreturn\u001b[39;00m \u001b[38;5;28mself\u001b[39m\u001b[38;5;241m.\u001b[39m_call_impl(\u001b[38;5;241m*\u001b[39margs, \u001b[38;5;241m*\u001b[39m\u001b[38;5;241m*\u001b[39mkwargs)\n",
      "File \u001b[1;32mD:\\anaconda3\\envs\\pyg\\Lib\\site-packages\\torch\\nn\\modules\\module.py:1747\u001b[0m, in \u001b[0;36mModule._call_impl\u001b[1;34m(self, *args, **kwargs)\u001b[0m\n\u001b[0;32m   1742\u001b[0m \u001b[38;5;66;03m# If we don't have any hooks, we want to skip the rest of the logic in\u001b[39;00m\n\u001b[0;32m   1743\u001b[0m \u001b[38;5;66;03m# this function, and just call forward.\u001b[39;00m\n\u001b[0;32m   1744\u001b[0m \u001b[38;5;28;01mif\u001b[39;00m \u001b[38;5;129;01mnot\u001b[39;00m (\u001b[38;5;28mself\u001b[39m\u001b[38;5;241m.\u001b[39m_backward_hooks \u001b[38;5;129;01mor\u001b[39;00m \u001b[38;5;28mself\u001b[39m\u001b[38;5;241m.\u001b[39m_backward_pre_hooks \u001b[38;5;129;01mor\u001b[39;00m \u001b[38;5;28mself\u001b[39m\u001b[38;5;241m.\u001b[39m_forward_hooks \u001b[38;5;129;01mor\u001b[39;00m \u001b[38;5;28mself\u001b[39m\u001b[38;5;241m.\u001b[39m_forward_pre_hooks\n\u001b[0;32m   1745\u001b[0m         \u001b[38;5;129;01mor\u001b[39;00m _global_backward_pre_hooks \u001b[38;5;129;01mor\u001b[39;00m _global_backward_hooks\n\u001b[0;32m   1746\u001b[0m         \u001b[38;5;129;01mor\u001b[39;00m _global_forward_hooks \u001b[38;5;129;01mor\u001b[39;00m _global_forward_pre_hooks):\n\u001b[1;32m-> 1747\u001b[0m     \u001b[38;5;28;01mreturn\u001b[39;00m forward_call(\u001b[38;5;241m*\u001b[39margs, \u001b[38;5;241m*\u001b[39m\u001b[38;5;241m*\u001b[39mkwargs)\n\u001b[0;32m   1749\u001b[0m result \u001b[38;5;241m=\u001b[39m \u001b[38;5;28;01mNone\u001b[39;00m\n\u001b[0;32m   1750\u001b[0m called_always_called_hooks \u001b[38;5;241m=\u001b[39m \u001b[38;5;28mset\u001b[39m()\n",
      "File \u001b[1;32mD:\\anaconda3\\envs\\pyg\\Lib\\site-packages\\torch_geometric\\nn\\conv\\gcn_conv.py:263\u001b[0m, in \u001b[0;36mGCNConv.forward\u001b[1;34m(self, x, edge_index, edge_weight)\u001b[0m\n\u001b[0;32m    260\u001b[0m x \u001b[38;5;241m=\u001b[39m \u001b[38;5;28mself\u001b[39m\u001b[38;5;241m.\u001b[39mlin(x)\n\u001b[0;32m    262\u001b[0m \u001b[38;5;66;03m# propagate_type: (x: Tensor, edge_weight: OptTensor)\u001b[39;00m\n\u001b[1;32m--> 263\u001b[0m out \u001b[38;5;241m=\u001b[39m \u001b[38;5;28mself\u001b[39m\u001b[38;5;241m.\u001b[39mpropagate(edge_index, x\u001b[38;5;241m=\u001b[39mx, edge_weight\u001b[38;5;241m=\u001b[39medge_weight)\n\u001b[0;32m    265\u001b[0m \u001b[38;5;28;01mif\u001b[39;00m \u001b[38;5;28mself\u001b[39m\u001b[38;5;241m.\u001b[39mbias \u001b[38;5;129;01mis\u001b[39;00m \u001b[38;5;129;01mnot\u001b[39;00m \u001b[38;5;28;01mNone\u001b[39;00m:\n\u001b[0;32m    266\u001b[0m     out \u001b[38;5;241m=\u001b[39m out \u001b[38;5;241m+\u001b[39m \u001b[38;5;28mself\u001b[39m\u001b[38;5;241m.\u001b[39mbias\n",
      "File \u001b[1;32m~\\AppData\\Local\\Temp\\torch_geometric.nn.conv.gcn_conv_GCNConv_propagate_60i5ylv4.py:183\u001b[0m, in \u001b[0;36mpropagate\u001b[1;34m(self, edge_index, x, edge_weight, size)\u001b[0m\n\u001b[0;32m    177\u001b[0m     out \u001b[38;5;241m=\u001b[39m \u001b[38;5;28mself\u001b[39m\u001b[38;5;241m.\u001b[39mupdate(\n\u001b[0;32m    178\u001b[0m         out,\n\u001b[0;32m    179\u001b[0m     )\n\u001b[0;32m    181\u001b[0m \u001b[38;5;28;01melse\u001b[39;00m:\n\u001b[1;32m--> 183\u001b[0m     kwargs \u001b[38;5;241m=\u001b[39m \u001b[38;5;28mself\u001b[39m\u001b[38;5;241m.\u001b[39mcollect(\n\u001b[0;32m    184\u001b[0m         edge_index,\n\u001b[0;32m    185\u001b[0m         x,\n\u001b[0;32m    186\u001b[0m         edge_weight,\n\u001b[0;32m    187\u001b[0m         mutable_size,\n\u001b[0;32m    188\u001b[0m     )\n\u001b[0;32m    190\u001b[0m     \u001b[38;5;66;03m# Begin Message Forward Pre Hook #######################################\u001b[39;00m\n\u001b[0;32m    191\u001b[0m     \u001b[38;5;28;01mif\u001b[39;00m \u001b[38;5;129;01mnot\u001b[39;00m torch\u001b[38;5;241m.\u001b[39mjit\u001b[38;5;241m.\u001b[39mis_scripting() \u001b[38;5;129;01mand\u001b[39;00m \u001b[38;5;129;01mnot\u001b[39;00m is_compiling():\n",
      "File \u001b[1;32m~\\AppData\\Local\\Temp\\torch_geometric.nn.conv.gcn_conv_GCNConv_propagate_60i5ylv4.py:96\u001b[0m, in \u001b[0;36mcollect\u001b[1;34m(self, edge_index, x, edge_weight, size)\u001b[0m\n\u001b[0;32m     94\u001b[0m \u001b[38;5;28;01melif\u001b[39;00m \u001b[38;5;28misinstance\u001b[39m(x, Tensor):\n\u001b[0;32m     95\u001b[0m     \u001b[38;5;28mself\u001b[39m\u001b[38;5;241m.\u001b[39m_set_size(size, j, x)\n\u001b[1;32m---> 96\u001b[0m     x_j \u001b[38;5;241m=\u001b[39m \u001b[38;5;28mself\u001b[39m\u001b[38;5;241m.\u001b[39m_index_select(x, edge_index_j)\n\u001b[0;32m     97\u001b[0m \u001b[38;5;28;01melse\u001b[39;00m:\n\u001b[0;32m     98\u001b[0m     x_j \u001b[38;5;241m=\u001b[39m \u001b[38;5;28;01mNone\u001b[39;00m\n",
      "File \u001b[1;32mD:\\anaconda3\\envs\\pyg\\Lib\\site-packages\\torch_geometric\\nn\\conv\\message_passing.py:267\u001b[0m, in \u001b[0;36mMessagePassing._index_select\u001b[1;34m(self, src, index)\u001b[0m\n\u001b[0;32m    265\u001b[0m     \u001b[38;5;28;01mreturn\u001b[39;00m src\u001b[38;5;241m.\u001b[39mindex_select(\u001b[38;5;28mself\u001b[39m\u001b[38;5;241m.\u001b[39mnode_dim, index)\n\u001b[0;32m    266\u001b[0m \u001b[38;5;28;01melse\u001b[39;00m:\n\u001b[1;32m--> 267\u001b[0m     \u001b[38;5;28;01mreturn\u001b[39;00m \u001b[38;5;28mself\u001b[39m\u001b[38;5;241m.\u001b[39m_index_select_safe(src, index)\n",
      "File \u001b[1;32mD:\\anaconda3\\envs\\pyg\\Lib\\site-packages\\torch_geometric\\nn\\conv\\message_passing.py:290\u001b[0m, in \u001b[0;36mMessagePassing._index_select_safe\u001b[1;34m(self, src, index)\u001b[0m\n\u001b[0;32m    281\u001b[0m \u001b[38;5;28;01mif\u001b[39;00m (index\u001b[38;5;241m.\u001b[39mnumel() \u001b[38;5;241m>\u001b[39m \u001b[38;5;241m0\u001b[39m \u001b[38;5;129;01mand\u001b[39;00m index\u001b[38;5;241m.\u001b[39mmax() \u001b[38;5;241m>\u001b[39m\u001b[38;5;241m=\u001b[39m src\u001b[38;5;241m.\u001b[39msize(\u001b[38;5;28mself\u001b[39m\u001b[38;5;241m.\u001b[39mnode_dim)):\n\u001b[0;32m    282\u001b[0m     \u001b[38;5;28;01mraise\u001b[39;00m \u001b[38;5;167;01mIndexError\u001b[39;00m(\n\u001b[0;32m    283\u001b[0m         \u001b[38;5;124mf\u001b[39m\u001b[38;5;124m\"\u001b[39m\u001b[38;5;124mFound indices in \u001b[39m\u001b[38;5;124m'\u001b[39m\u001b[38;5;124medge_index\u001b[39m\u001b[38;5;124m'\u001b[39m\u001b[38;5;124m that are larger \u001b[39m\u001b[38;5;124m\"\u001b[39m\n\u001b[0;32m    284\u001b[0m         \u001b[38;5;124mf\u001b[39m\u001b[38;5;124m\"\u001b[39m\u001b[38;5;124mthan \u001b[39m\u001b[38;5;132;01m{\u001b[39;00msrc\u001b[38;5;241m.\u001b[39msize(\u001b[38;5;28mself\u001b[39m\u001b[38;5;241m.\u001b[39mnode_dim)\u001b[38;5;250m \u001b[39m\u001b[38;5;241m-\u001b[39m\u001b[38;5;250m \u001b[39m\u001b[38;5;241m1\u001b[39m\u001b[38;5;132;01m}\u001b[39;00m\u001b[38;5;124m (got \u001b[39m\u001b[38;5;124m\"\u001b[39m\n\u001b[1;32m   (...)\u001b[0m\n\u001b[0;32m    287\u001b[0m         \u001b[38;5;124mf\u001b[39m\u001b[38;5;124m\"\u001b[39m\u001b[38;5;124min the interval [0, \u001b[39m\u001b[38;5;132;01m{\u001b[39;00msrc\u001b[38;5;241m.\u001b[39msize(\u001b[38;5;28mself\u001b[39m\u001b[38;5;241m.\u001b[39mnode_dim)\u001b[38;5;132;01m}\u001b[39;00m\u001b[38;5;124m) in \u001b[39m\u001b[38;5;124m\"\u001b[39m\n\u001b[0;32m    288\u001b[0m         \u001b[38;5;124mf\u001b[39m\u001b[38;5;124m\"\u001b[39m\u001b[38;5;124myour node feature matrix and try again.\u001b[39m\u001b[38;5;124m\"\u001b[39m)\n\u001b[1;32m--> 290\u001b[0m \u001b[38;5;28;01mraise\u001b[39;00m e\n",
      "File \u001b[1;32mD:\\anaconda3\\envs\\pyg\\Lib\\site-packages\\torch_geometric\\nn\\conv\\message_passing.py:271\u001b[0m, in \u001b[0;36mMessagePassing._index_select_safe\u001b[1;34m(self, src, index)\u001b[0m\n\u001b[0;32m    269\u001b[0m \u001b[38;5;28;01mdef\u001b[39;00m \u001b[38;5;21m_index_select_safe\u001b[39m(\u001b[38;5;28mself\u001b[39m, src: Tensor, index: Tensor) \u001b[38;5;241m-\u001b[39m\u001b[38;5;241m>\u001b[39m Tensor:\n\u001b[0;32m    270\u001b[0m     \u001b[38;5;28;01mtry\u001b[39;00m:\n\u001b[1;32m--> 271\u001b[0m         \u001b[38;5;28;01mreturn\u001b[39;00m src\u001b[38;5;241m.\u001b[39mindex_select(\u001b[38;5;28mself\u001b[39m\u001b[38;5;241m.\u001b[39mnode_dim, index)\n\u001b[0;32m    272\u001b[0m     \u001b[38;5;28;01mexcept\u001b[39;00m (\u001b[38;5;167;01mIndexError\u001b[39;00m, \u001b[38;5;167;01mRuntimeError\u001b[39;00m) \u001b[38;5;28;01mas\u001b[39;00m e:\n\u001b[0;32m    273\u001b[0m         \u001b[38;5;28;01mif\u001b[39;00m index\u001b[38;5;241m.\u001b[39mnumel() \u001b[38;5;241m>\u001b[39m \u001b[38;5;241m0\u001b[39m \u001b[38;5;129;01mand\u001b[39;00m index\u001b[38;5;241m.\u001b[39mmin() \u001b[38;5;241m<\u001b[39m \u001b[38;5;241m0\u001b[39m:\n",
      "\u001b[1;31mRuntimeError\u001b[0m: [enforce fail at alloc_cpu.cpp:114] data. DefaultCPUAllocator: not enough memory: you tried to allocate 40516645888 bytes."
     ]
    }
   ],
   "source": [
    "model(graph.node_features, edges)"
   ]
  },
  {
   "cell_type": "code",
   "execution_count": 23,
   "id": "e56a32d5-0fb0-4165-b3d2-8736e6d2aa59",
   "metadata": {},
   "outputs": [
    {
     "name": "stdout",
     "output_type": "stream",
     "text": [
      "torch.Size([132534])\n",
      "torch.Size([132534])\n",
      "right before norm\n",
      "torch.Size([79122504])\n",
      "torch.Size([79122504, 8])\n",
      "torch.Size([132534, 8])\n",
      "torch.Size([132534, 112])\n"
     ]
    }
   ],
   "source": [
    "x  =graph.node_features\n",
    "conv = CustomGCNConv(in_channels=8, out_channels=112)\n",
    "x_out = conv(x, graph.edge_index)  # Uses sparse edge representation\n",
    "print(x_out.shape)  # Output node embeddings"
   ]
  },
  {
   "cell_type": "code",
   "execution_count": 22,
   "id": "6e70d3c5-1c92-4b6c-abca-39d355f37182",
   "metadata": {},
   "outputs": [
    {
     "data": {
      "text/plain": [
       "torch.Size([132534, 8])"
      ]
     },
     "execution_count": 22,
     "metadata": {},
     "output_type": "execute_result"
    }
   ],
   "source": [
    "x = graph.node_features\n",
    "x.shape"
   ]
  },
  {
   "cell_type": "code",
   "execution_count": 24,
   "id": "85234f58-8e6b-4bea-875d-410abf8cc2fb",
   "metadata": {},
   "outputs": [
    {
     "data": {
      "text/plain": [
       "torch.float32"
      ]
     },
     "execution_count": 24,
     "metadata": {},
     "output_type": "execute_result"
    }
   ],
   "source": [
    "x.float().dtype"
   ]
  },
  {
   "cell_type": "code",
   "execution_count": 26,
   "id": "b8e57d6d-99e2-4ab0-9c15-bbb678355917",
   "metadata": {},
   "outputs": [],
   "source": [
    "a = torch.rand((5,5))"
   ]
  },
  {
   "cell_type": "code",
   "execution_count": 30,
   "id": "2b86c18d-1d1c-4df6-b0a0-7327432fbad2",
   "metadata": {},
   "outputs": [],
   "source": [
    "b = a.half()"
   ]
  },
  {
   "cell_type": "code",
   "execution_count": 32,
   "id": "e887fb0b-1213-4616-b39d-c4396e9a0e74",
   "metadata": {},
   "outputs": [
    {
     "data": {
      "text/plain": [
       "tensor([[0.2485, 0.0365, 0.5966, 0.3405, 0.3526],\n",
       "        [0.3174, 0.2991, 0.5675, 0.2685, 0.0399],\n",
       "        [0.0367, 0.1123, 0.8734, 0.7993, 0.1175],\n",
       "        [0.3231, 0.8088, 0.8453, 0.7379, 0.0045],\n",
       "        [0.6784, 0.0047, 0.6721, 0.9347, 0.1530]])"
      ]
     },
     "execution_count": 32,
     "metadata": {},
     "output_type": "execute_result"
    }
   ],
   "source": [
    "b*a"
   ]
  },
  {
   "cell_type": "code",
   "execution_count": null,
   "id": "d723b8dc-7281-464c-815c-9c8b35c054ac",
   "metadata": {},
   "outputs": [],
   "source": []
  }
 ],
 "metadata": {
  "kernelspec": {
   "display_name": "pyg",
   "language": "python",
   "name": "pyg"
  },
  "language_info": {
   "codemirror_mode": {
    "name": "ipython",
    "version": 3
   },
   "file_extension": ".py",
   "mimetype": "text/x-python",
   "name": "python",
   "nbconvert_exporter": "python",
   "pygments_lexer": "ipython3",
   "version": "3.12.9"
  }
 },
 "nbformat": 4,
 "nbformat_minor": 5
}
